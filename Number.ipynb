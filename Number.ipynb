{
  "nbformat": 4,
  "nbformat_minor": 0,
  "metadata": {
    "colab": {
      "name": "Number.ipynb",
      "provenance": [],
      "authorship_tag": "ABX9TyOcEw2NgY6zDY8tQK10VDR8",
      "include_colab_link": true
    },
    "kernelspec": {
      "name": "python3",
      "display_name": "Python 3"
    },
    "language_info": {
      "name": "python"
    }
  },
  "cells": [
    {
      "cell_type": "markdown",
      "metadata": {
        "id": "view-in-github",
        "colab_type": "text"
      },
      "source": [
        "<a href=\"https://colab.research.google.com/github/ankitkumar0021/python_programs/blob/main/Number.ipynb\" target=\"_parent\"><img src=\"https://colab.research.google.com/assets/colab-badge.svg\" alt=\"Open In Colab\"/></a>"
      ]
    },
    {
      "cell_type": "code",
      "execution_count": 2,
      "metadata": {
        "colab": {
          "base_uri": "https://localhost:8080/"
        },
        "id": "0SohbA1CrUgf",
        "outputId": "fd4a5f2a-2f18-4d66-f24c-c60ef0fba968"
      },
      "outputs": [
        {
          "output_type": "stream",
          "name": "stdout",
          "text": [
            "Looking in indexes: https://pypi.org/simple, https://us-python.pkg.dev/colab-wheels/public/simple/\n",
            "Collecting phonenumbers\n",
            "  Downloading phonenumbers-8.12.50-py2.py3-none-any.whl (2.6 MB)\n",
            "\u001b[K     |████████████████████████████████| 2.6 MB 6.8 MB/s \n",
            "\u001b[?25hInstalling collected packages: phonenumbers\n",
            "Successfully installed phonenumbers-8.12.50\n"
          ]
        }
      ],
      "source": [
        "pip install phonenumbers"
      ]
    },
    {
      "cell_type": "code",
      "source": [
        "import phonenumbers\n",
        "from phonenumbers import carrier,geocoder,timezone\n",
        "number = input(\"Enter your number with +_ _: \")\n",
        "phone=phonenumbers.parse(number)\n",
        "time=timezone.time_zones_for_number(phone)\n",
        "car=carrier.name_for_number(phone,\"en\")\n",
        "reg=geocoder.description_for_number(phone,\"en\")\n",
        "print(phone)\n",
        "print(time)\n",
        "print(car)\n",
        "print(reg)\n"
      ],
      "metadata": {
        "colab": {
          "base_uri": "https://localhost:8080/"
        },
        "id": "EAfhi-RQrYZb",
        "outputId": "18db8d3d-a6c5-48ac-9300-ee2e078fd3e6"
      },
      "execution_count": 4,
      "outputs": [
        {
          "output_type": "stream",
          "name": "stdout",
          "text": [
            "Enter your number with +_ _: =+919818704186\n",
            "Country Code: 91 National Number: 9818704186\n",
            "('Asia/Calcutta',)\n",
            "Airtel\n",
            "India\n"
          ]
        }
      ]
    },
    {
      "cell_type": "code",
      "source": [
        ""
      ],
      "metadata": {
        "id": "ERW5Zmq5rn7f"
      },
      "execution_count": 4,
      "outputs": []
    }
  ]
}