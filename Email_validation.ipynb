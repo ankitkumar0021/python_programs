{
  "nbformat": 4,
  "nbformat_minor": 0,
  "metadata": {
    "colab": {
      "name": "Email_validation.ipynb",
      "provenance": [],
      "authorship_tag": "ABX9TyNg6IaBEX7oqjEzqDUHdb3h",
      "include_colab_link": true
    },
    "kernelspec": {
      "name": "python3",
      "display_name": "Python 3"
    },
    "language_info": {
      "name": "python"
    }
  },
  "cells": [
    {
      "cell_type": "markdown",
      "metadata": {
        "id": "view-in-github",
        "colab_type": "text"
      },
      "source": [
        "<a href=\"https://colab.research.google.com/github/ankitkumar0021/python_programs/blob/main/Email_validation.ipynb\" target=\"_parent\"><img src=\"https://colab.research.google.com/assets/colab-badge.svg\" alt=\"Open In Colab\"/></a>"
      ]
    },
    {
      "cell_type": "code",
      "execution_count": 15,
      "metadata": {
        "colab": {
          "base_uri": "https://localhost:8080/"
        },
        "id": "7frlE7K-hJvg",
        "outputId": "c1b94f5c-c9b7-4c88-f9e0-8d5b50964d3b"
      },
      "outputs": [
        {
          "output_type": "stream",
          "name": "stdout",
          "text": [
            "Enter a Email :ankit2018cs079abesit@gmail.com\n",
            "this Email is Right\n"
          ]
        }
      ],
      "source": [
        "email = input(\"Enter a Email :\")                   \n",
        "k,j,d = 0,0,0\n",
        "if len(email)>=6:                                    #length of email\n",
        "  if email[0].isalpha():                             #first letter should be a-z\n",
        "    if (\"@\" in email) and (email.count(\"@\")==1):     #'@' should be only one\n",
        "      if (email[-4]==\".\") ^ (email[-3]== \".\"):       #these index can be '.'\n",
        "        for i in email:           \n",
        "          if i==i.isspace():                         #no space     \n",
        "            k=1               \n",
        "          elif i.isalpha():                          #a-z\n",
        "            if i==i.upper():                         # no uppercase\n",
        "             j=1 \n",
        "          elif i.isdigit():                          # can be digit\n",
        "              continue\n",
        "          elif i==\"_\" or i==\".\" or i==\"@\":           #  it will check '_' , '.' , '@'\n",
        "              continue\n",
        "          else:                                      # it will check any special character\n",
        "            d=1\n",
        "        if k==1 or j==1 or d==1:\n",
        "          print(\"wrong email 5\")\n",
        "        else:\n",
        "          print('this Email is Right')\n",
        "        \n",
        "      else:\n",
        "        print(\"wrong email 4\")\n",
        "    else:\n",
        "      print(\"wrong email 3\")\n",
        "  else:\n",
        "    print(\"wrong email 2\")  \n",
        "else:\n",
        "  print(\"wrong email 1\")"
      ]
    },
    {
      "cell_type": "code",
      "source": [
        "\n"
      ],
      "metadata": {
        "id": "Phe1EICfi_fT"
      },
      "execution_count": 13,
      "outputs": []
    }
  ]
}